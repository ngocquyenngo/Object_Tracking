{
  "nbformat": 4,
  "nbformat_minor": 0,
  "metadata": {
    "colab": {
      "name": "MDNet.ipynb",
      "provenance": [],
      "collapsed_sections": [],
      "authorship_tag": "ABX9TyNUYjClw/NDbCp/xAZs0Qbo",
      "include_colab_link": true
    },
    "kernelspec": {
      "name": "python3",
      "display_name": "Python 3"
    },
    "language_info": {
      "name": "python"
    }
  },
  "cells": [
    {
      "cell_type": "markdown",
      "metadata": {
        "id": "view-in-github",
        "colab_type": "text"
      },
      "source": [
        "<a href=\"https://colab.research.google.com/github/ngocquyenngo/Object_Tracking/blob/main/MDNet_VisualTracking.ipynb\" target=\"_parent\"><img src=\"https://colab.research.google.com/assets/colab-badge.svg\" alt=\"Open In Colab\"/></a>"
      ]
    },
    {
      "cell_type": "markdown",
      "metadata": {
        "id": "l3GJnyBizy00"
      },
      "source": [
        "@InProceedings{nam2016mdnet,\n",
        "author = {Nam, Hyeonseob and Han, Bohyung},\n",
        "title = {Learning Multi-Domain Convolutional Neural Networks for Visual Tracking},\n",
        "booktitle = {The IEEE Conference on Computer Vision and Pattern Recognition (CVPR)},\n",
        "month = {June},\n",
        "year = {2016}\n",
        "}"
      ]
    },
    {
      "cell_type": "code",
      "metadata": {
        "id": "yWDFbqNBv0Rk"
      },
      "source": [
        "from google.colab import drive"
      ],
      "execution_count": 1,
      "outputs": []
    },
    {
      "cell_type": "code",
      "metadata": {
        "colab": {
          "base_uri": "https://localhost:8080/"
        },
        "id": "XIgXn8unxYqj",
        "outputId": "dd2df49f-7a79-4f0d-c865-c844cd22d82e"
      },
      "source": [
        "drive.mount('/content/drive')"
      ],
      "execution_count": 3,
      "outputs": [
        {
          "output_type": "stream",
          "name": "stdout",
          "text": [
            "Drive already mounted at /content/drive; to attempt to forcibly remount, call drive.mount(\"/content/drive\", force_remount=True).\n"
          ]
        }
      ]
    },
    {
      "cell_type": "code",
      "metadata": {
        "colab": {
          "base_uri": "https://localhost:8080/"
        },
        "id": "8w4Mz2bpxsD4",
        "outputId": "409752ae-0d63-4fc0-f4e1-5969cbe08b00"
      },
      "source": [
        "%cd drive/MyDrive/Quyn/MDNet/"
      ],
      "execution_count": 4,
      "outputs": [
        {
          "output_type": "stream",
          "name": "stdout",
          "text": [
            "/content/drive/MyDrive/Quyn/MDNet\n"
          ]
        }
      ]
    },
    {
      "cell_type": "code",
      "metadata": {
        "colab": {
          "base_uri": "https://localhost:8080/"
        },
        "id": "WL58cSX4x2Bx",
        "outputId": "dfaed4cb-6888-4e00-8ba8-a22d65de4a76"
      },
      "source": [
        "!python run_tracker.py -s DragonBaby"
      ],
      "execution_count": 6,
      "outputs": [
        {
          "output_type": "stream",
          "name": "stdout",
          "text": [
            "/usr/local/lib/python3.7/dist-packages/torch/nn/functional.py:718: UserWarning: Named tensors and all their associated APIs are an experimental feature and subject to change. Please do not use them for anything important until they are released as stable. (Triggered internally at  /pytorch/c10/core/TensorImpl.h:1156.)\n",
            "  return torch.max_pool2d(input, kernel_size, stride, padding, dilation, ceil_mode)\n",
            "Frame 1/113, Overlap 0.918, Score 15.604, Time 0.761\n",
            "Frame 2/113, Overlap 0.792, Score 16.938, Time 0.777\n",
            "Frame 3/113, Overlap 0.798, Score 13.598, Time 0.720\n",
            "Frame 4/113, Overlap 0.826, Score 7.435, Time 0.726\n",
            "Frame 5/113, Overlap 0.726, Score 2.388, Time 0.738\n",
            "Frame 6/113, Overlap 0.763, Score 2.759, Time 0.726\n",
            "Frame 7/113, Overlap 0.763, Score -0.308, Time 0.643\n",
            "Frame 8/113, Overlap 0.733, Score 9.215, Time 0.697\n",
            "Frame 9/113, Overlap 0.794, Score 10.268, Time 0.734\n",
            "Frame 10/113, Overlap 0.855, Score 10.153, Time 0.916\n",
            "Frame 11/113, Overlap 0.822, Score 21.765, Time 0.717\n",
            "Frame 12/113, Overlap 0.802, Score 21.556, Time 0.686\n",
            "Frame 13/113, Overlap 0.893, Score 23.306, Time 0.789\n",
            "Frame 14/113, Overlap 0.858, Score 19.965, Time 0.663\n",
            "Frame 15/113, Overlap 0.890, Score 13.983, Time 0.732\n",
            "Frame 16/113, Overlap 0.845, Score 10.210, Time 0.700\n",
            "Frame 17/113, Overlap 0.856, Score 16.398, Time 0.791\n",
            "Frame 18/113, Overlap 0.869, Score 19.957, Time 0.667\n",
            "Frame 19/113, Overlap 0.851, Score 18.093, Time 0.760\n",
            "Frame 20/113, Overlap 0.845, Score 19.592, Time 0.892\n",
            "Frame 21/113, Overlap 0.834, Score 19.143, Time 0.747\n",
            "Frame 22/113, Overlap 0.869, Score 18.956, Time 0.739\n",
            "Frame 23/113, Overlap 0.800, Score 15.560, Time 0.759\n",
            "Frame 24/113, Overlap 0.771, Score 9.875, Time 0.764\n",
            "Frame 25/113, Overlap 0.789, Score 6.867, Time 0.720\n",
            "Frame 26/113, Overlap 0.756, Score 9.789, Time 0.767\n",
            "Frame 27/113, Overlap 0.703, Score 5.673, Time 0.682\n",
            "Frame 28/113, Overlap 0.680, Score 7.380, Time 0.771\n",
            "Frame 29/113, Overlap 0.693, Score 10.404, Time 0.755\n",
            "Frame 30/113, Overlap 0.872, Score 17.298, Time 0.899\n",
            "Frame 31/113, Overlap 0.755, Score 27.434, Time 0.753\n",
            "Frame 32/113, Overlap 0.800, Score 28.967, Time 0.675\n",
            "Frame 33/113, Overlap 0.827, Score 32.255, Time 0.749\n",
            "Frame 34/113, Overlap 0.770, Score 33.534, Time 0.735\n",
            "Frame 35/113, Overlap 0.726, Score 29.889, Time 0.739\n",
            "Frame 36/113, Overlap 0.795, Score 38.616, Time 0.721\n",
            "Frame 37/113, Overlap 0.878, Score 37.423, Time 0.662\n",
            "Frame 38/113, Overlap 0.726, Score 23.640, Time 0.660\n",
            "Frame 39/113, Overlap 0.780, Score 19.424, Time 0.709\n",
            "Frame 40/113, Overlap 0.778, Score 13.666, Time 0.851\n",
            "Frame 41/113, Overlap 0.482, Score -2.836, Time 0.694\n",
            "Frame 42/113, Overlap 0.488, Score 3.282, Time 0.677\n",
            "Frame 43/113, Overlap 0.335, Score -7.161, Time 0.629\n",
            "Frame 44/113, Overlap 0.643, Score 18.452, Time 0.725\n",
            "Frame 45/113, Overlap 0.000, Score -9.742, Time 0.723\n",
            "Frame 46/113, Overlap 0.783, Score 3.057, Time 0.755\n",
            "Frame 47/113, Overlap 0.543, Score 1.912, Time 0.791\n",
            "Frame 48/113, Overlap 0.645, Score 11.234, Time 0.692\n",
            "Frame 49/113, Overlap 0.599, Score 1.155, Time 0.726\n",
            "Frame 50/113, Overlap 0.649, Score 5.769, Time 0.918\n",
            "Frame 51/113, Overlap 0.678, Score 16.933, Time 0.762\n",
            "Frame 52/113, Overlap 0.738, Score 14.761, Time 0.789\n",
            "Frame 53/113, Overlap 0.607, Score 16.877, Time 0.687\n",
            "Frame 54/113, Overlap 0.811, Score 13.548, Time 0.822\n",
            "Frame 55/113, Overlap 0.815, Score 19.310, Time 0.668\n",
            "Frame 56/113, Overlap 0.793, Score 23.289, Time 0.718\n",
            "Frame 57/113, Overlap 0.775, Score 25.917, Time 0.716\n",
            "Frame 58/113, Overlap 0.833, Score 28.762, Time 0.680\n",
            "Frame 59/113, Overlap 0.911, Score 28.977, Time 0.716\n",
            "Frame 60/113, Overlap 0.689, Score 27.538, Time 0.842\n",
            "Frame 61/113, Overlap 0.736, Score 17.515, Time 0.779\n",
            "Frame 62/113, Overlap 0.828, Score 21.083, Time 0.790\n",
            "Frame 63/113, Overlap 0.793, Score 22.926, Time 0.705\n",
            "Frame 64/113, Overlap 0.742, Score 23.717, Time 0.762\n",
            "Frame 65/113, Overlap 0.703, Score 19.946, Time 0.716\n",
            "Frame 66/113, Overlap 0.800, Score 21.755, Time 0.705\n",
            "Frame 67/113, Overlap 0.696, Score 20.355, Time 0.727\n",
            "Frame 68/113, Overlap 0.734, Score 22.423, Time 0.732\n",
            "Frame 69/113, Overlap 0.830, Score 19.090, Time 0.672\n",
            "Frame 70/113, Overlap 0.774, Score 18.854, Time 0.927\n",
            "Frame 71/113, Overlap 0.826, Score 21.501, Time 0.744\n",
            "Frame 72/113, Overlap 0.812, Score 25.305, Time 0.738\n",
            "Frame 73/113, Overlap 0.874, Score 24.549, Time 0.914\n",
            "Frame 74/113, Overlap 0.765, Score 20.320, Time 0.770\n",
            "Frame 75/113, Overlap 0.670, Score 14.485, Time 0.697\n",
            "Frame 76/113, Overlap 0.860, Score 1.116, Time 0.690\n",
            "Frame 77/113, Overlap 0.758, Score 1.030, Time 0.767\n",
            "Frame 78/113, Overlap 0.898, Score 31.190, Time 0.732\n",
            "Frame 79/113, Overlap 0.000, Score -9.727, Time 0.688\n",
            "Frame 80/113, Overlap 0.000, Score -5.069, Time 0.830\n",
            "Frame 81/113, Overlap 0.000, Score -6.210, Time 0.744\n",
            "Frame 82/113, Overlap 0.000, Score -15.791, Time 0.648\n",
            "Frame 83/113, Overlap 0.000, Score -16.360, Time 0.648\n",
            "Frame 84/113, Overlap 0.000, Score -10.436, Time 0.697\n",
            "Frame 85/113, Overlap 0.000, Score -10.693, Time 0.717\n",
            "Frame 86/113, Overlap 0.655, Score 0.791, Time 0.724\n",
            "Frame 87/113, Overlap 0.731, Score 14.046, Time 0.714\n",
            "Frame 88/113, Overlap 0.896, Score 13.045, Time 0.737\n",
            "Frame 89/113, Overlap 0.783, Score 15.900, Time 0.736\n",
            "Frame 90/113, Overlap 0.821, Score 18.314, Time 0.935\n",
            "Frame 91/113, Overlap 0.793, Score 17.396, Time 0.787\n",
            "Frame 92/113, Overlap 0.696, Score 21.860, Time 0.737\n",
            "Frame 93/113, Overlap 0.754, Score 19.476, Time 0.672\n",
            "Frame 94/113, Overlap 0.793, Score 15.820, Time 0.649\n",
            "Frame 95/113, Overlap 0.795, Score 14.316, Time 0.762\n",
            "Frame 96/113, Overlap 0.833, Score 9.809, Time 0.685\n",
            "Frame 97/113, Overlap 0.784, Score 11.286, Time 0.771\n",
            "Frame 98/113, Overlap 0.766, Score 12.997, Time 0.676\n",
            "Frame 99/113, Overlap 0.891, Score 11.159, Time 0.745\n",
            "Frame 100/113, Overlap 0.697, Score 6.483, Time 0.885\n",
            "Frame 101/113, Overlap 0.728, Score 18.221, Time 0.714\n",
            "Frame 102/113, Overlap 0.807, Score 18.838, Time 0.784\n",
            "Frame 103/113, Overlap 0.868, Score 17.024, Time 0.700\n",
            "Frame 104/113, Overlap 0.907, Score 15.796, Time 0.698\n",
            "Frame 105/113, Overlap 0.833, Score 14.629, Time 0.700\n",
            "Frame 106/113, Overlap 0.853, Score 14.785, Time 0.811\n",
            "Frame 107/113, Overlap 0.839, Score 14.219, Time 0.752\n",
            "Frame 108/113, Overlap 0.820, Score 14.721, Time 0.702\n",
            "Frame 109/113, Overlap 0.742, Score 17.296, Time 0.735\n",
            "Frame 110/113, Overlap 0.717, Score 23.096, Time 0.880\n",
            "Frame 111/113, Overlap 0.753, Score 19.156, Time 0.806\n",
            "Frame 112/113, Overlap 0.921, Score 21.935, Time 0.759\n",
            "meanIOU: 0.721\n"
          ]
        }
      ]
    }
  ]
}